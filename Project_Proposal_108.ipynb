{
 "cells": [
  {
   "cell_type": "markdown",
   "id": "ab76e740-b41a-4d21-861e-4aa65ae91ec5",
   "metadata": {
    "tags": []
   },
   "source": [
    "# Project Proposal Group 108"
   ]
  },
  {
   "cell_type": "markdown",
   "id": "d518a6d8-2a84-4949-b13d-7826e42f3e40",
   "metadata": {},
   "source": [
    "### Introduction"
   ]
  },
  {
   "cell_type": "markdown",
   "id": "6a9eb460-6ea4-457e-ab59-047d85f7a26b",
   "metadata": {},
   "source": []
  },
  {
   "cell_type": "markdown",
   "id": "3451af06-3232-4465-98c7-a3c3ec3ef4ba",
   "metadata": {},
   "source": [
    "### Preliminary Data Analysis"
   ]
  },
  {
   "cell_type": "code",
   "execution_count": null,
   "id": "e0b4d331-c94b-4252-92b0-8ec4633ab507",
   "metadata": {},
   "outputs": [],
   "source": []
  },
  {
   "cell_type": "markdown",
   "id": "b5179632-da88-44f5-87b8-86d5a0196fcf",
   "metadata": {},
   "source": [
    "### Methods"
   ]
  },
  {
   "cell_type": "markdown",
   "id": "25daa81c-acf6-43ce-a868-ef4fc90ec672",
   "metadata": {},
   "source": [
    "Since all the variables are quantitative, we will use the K-nearest neighbors regression model to analyze the data. The data will be split with 75% in the training set. All predictors will be standardized (scaled and centered) and the number of neighbors will be determined through cross validation. The training data will be split into five equal portions and the number of neighbors used in the final model will correspond with the smallest estimated error from the cross validation tests. The model will be retrained using the ideal number of neighbors on the training set and evaluated by determining its standard error on the testing set. Furthermore, each predictor will undergo this process on its own to determine whether adding more predictors decreases the error in the predictions.\n",
    "\n",
    "To visualize our results, we will create a scatter plot with Prize money on the y-axis and a predictor on the x-axis. Each predictor will be plotted separately with a coloured line that represents the predicted prize money from the model with that predictor only.\n"
   ]
  },
  {
   "cell_type": "markdown",
   "id": "c85079c3-1c2e-4ee6-9945-531466f93358",
   "metadata": {},
   "source": [
    "### Expected Outcomes"
   ]
  },
  {
   "cell_type": "code",
   "execution_count": null,
   "id": "be1af3f2-3987-464e-a024-7e73a0e6e0d0",
   "metadata": {},
   "outputs": [],
   "source": []
  }
 ],
 "metadata": {
  "kernelspec": {
   "display_name": "R",
   "language": "R",
   "name": "ir"
  },
  "language_info": {
   "codemirror_mode": "r",
   "file_extension": ".r",
   "mimetype": "text/x-r-source",
   "name": "R",
   "pygments_lexer": "r",
   "version": "4.1.3"
  }
 },
 "nbformat": 4,
 "nbformat_minor": 5
}

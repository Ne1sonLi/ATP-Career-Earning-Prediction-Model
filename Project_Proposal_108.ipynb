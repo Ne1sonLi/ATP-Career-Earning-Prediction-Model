{
 "cells": [
  {
   "cell_type": "markdown",
   "id": "ab76e740-b41a-4d21-861e-4aa65ae91ec5",
   "metadata": {
    "tags": []
   },
   "source": [
    "# Project Proposal Group 108"
   ]
  },
  {
   "cell_type": "markdown",
   "id": "d518a6d8-2a84-4949-b13d-7826e42f3e40",
   "metadata": {},
   "source": [
    "### Introduction"
   ]
  },
  {
   "cell_type": "markdown",
   "id": "6a9eb460-6ea4-457e-ab59-047d85f7a26b",
   "metadata": {},
   "source": [
    "For our project we will analyze player stats for the Top 500 tennis players. Tennis is a racket sport played on courts throughout the world, but is particularly popular in Europe. Some major tournaments include Wimbledon, the US Open, the Australian Open, and the French Open. Our dataset contains a wide array of information on these players such as age, handedness, name, height, year turned pro, seasons, played, titles won, best season, etc.\n",
    "\n",
    "The information on interest to us for our analysis are:\n",
    "\n",
    "* Best Rank \n",
    "* Current Rank \n",
    "* Seasons \n",
    "* Age \n",
    "* Prize money\n",
    "\n",
    "Through analyzing these columns we will aim to answer the following question:\n",
    "\n",
    "* **Can you predict a tennis player's career earnings based on their profile?**\n"
   ]
  },
  {
   "cell_type": "markdown",
   "id": "3451af06-3232-4465-98c7-a3c3ec3ef4ba",
   "metadata": {},
   "source": [
    "### Preliminary Data Analysis"
   ]
  },
  {
   "cell_type": "code",
   "execution_count": 41,
   "id": "dfe7ba26-8ecb-41b8-8c73-bb72add769b3",
   "metadata": {},
   "outputs": [],
   "source": [
    "library(tidyverse)\n",
    "library(testthat)\n",
    "library(digest)\n",
    "library(repr)\n",
    "library(tidymodels)\n",
    "install.package(\"psych\")\n",
    "library("
   ]
  },
  {
   "cell_type": "markdown",
   "id": "ab5832fe-bf13-4e17-b9a0-56e7ab996398",
   "metadata": {},
   "source": [
    "Lets first load in the data we plan to use"
   ]
  },
  {
   "cell_type": "code",
   "execution_count": 24,
   "id": "ae37f17f-96c0-4b2c-9264-3febffa5393d",
   "metadata": {},
   "outputs": [
    {
     "name": "stderr",
     "output_type": "stream",
     "text": [
      "\u001b[1m\u001b[22mNew names:\n",
      "\u001b[36m•\u001b[39m `` -> `...1`\n",
      "\u001b[1mRows: \u001b[22m\u001b[34m500\u001b[39m \u001b[1mColumns: \u001b[22m\u001b[34m38\u001b[39m\n",
      "\u001b[36m──\u001b[39m \u001b[1mColumn specification\u001b[22m \u001b[36m────────────────────────────────────────────────────────\u001b[39m\n",
      "\u001b[1mDelimiter:\u001b[22m \",\"\n",
      "\u001b[31mchr\u001b[39m (25): Age, Country, Plays, Wikipedia, Current Rank, Best Rank, Name, Bac...\n",
      "\u001b[32mdbl\u001b[39m (13): ...1, Turned Pro, Seasons, Titles, Best Season, Retired, Masters, ...\n",
      "\n",
      "\u001b[36mℹ\u001b[39m Use `spec()` to retrieve the full column specification for this data.\n",
      "\u001b[36mℹ\u001b[39m Specify the column types or set `show_col_types = FALSE` to quiet this message.\n"
     ]
    },
    {
     "data": {
      "text/html": [
       "<table class=\"dataframe\">\n",
       "<caption>A tibble: 8 × 38</caption>\n",
       "<thead>\n",
       "\t<tr><th scope=col>...1</th><th scope=col>Age</th><th scope=col>Country</th><th scope=col>Plays</th><th scope=col>Wikipedia</th><th scope=col>Current Rank</th><th scope=col>Best Rank</th><th scope=col>Name</th><th scope=col>Backhand</th><th scope=col>Prize Money</th><th scope=col>⋯</th><th scope=col>Facebook</th><th scope=col>Twitter</th><th scope=col>Nicknames</th><th scope=col>Grand Slams</th><th scope=col>Davis Cups</th><th scope=col>Web Site</th><th scope=col>Team Cups</th><th scope=col>Olympics</th><th scope=col>Weeks at No. 1</th><th scope=col>Tour Finals</th></tr>\n",
       "\t<tr><th scope=col>&lt;dbl&gt;</th><th scope=col>&lt;chr&gt;</th><th scope=col>&lt;chr&gt;</th><th scope=col>&lt;chr&gt;</th><th scope=col>&lt;chr&gt;</th><th scope=col>&lt;chr&gt;</th><th scope=col>&lt;chr&gt;</th><th scope=col>&lt;chr&gt;</th><th scope=col>&lt;chr&gt;</th><th scope=col>&lt;chr&gt;</th><th scope=col>⋯</th><th scope=col>&lt;chr&gt;</th><th scope=col>&lt;chr&gt;</th><th scope=col>&lt;chr&gt;</th><th scope=col>&lt;dbl&gt;</th><th scope=col>&lt;dbl&gt;</th><th scope=col>&lt;chr&gt;</th><th scope=col>&lt;dbl&gt;</th><th scope=col>&lt;dbl&gt;</th><th scope=col>&lt;dbl&gt;</th><th scope=col>&lt;dbl&gt;</th></tr>\n",
       "</thead>\n",
       "<tbody>\n",
       "\t<tr><td>0</td><td>26 (25-04-1993)</td><td>Brazil                   </td><td>Right-handed</td><td>Wikipedia</td><td>378 (97) </td><td>363 (04-11-2019)</td><td>Oscar Jose Gutierrez</td><td>NA        </td><td>NA          </td><td>⋯</td><td>NA</td><td>NA</td><td>NA</td><td>NA</td><td>NA</td><td>NA</td><td>NA</td><td>NA</td><td>NA</td><td>NA</td></tr>\n",
       "\t<tr><td>1</td><td>18 (22-12-2001)</td><td>United Kingdom           </td><td>Left-handed </td><td>Wikipedia</td><td>326 (119)</td><td>316 (14-10-2019)</td><td>Jack Draper         </td><td>Two-handed</td><td>$59,040     </td><td>⋯</td><td>NA</td><td>NA</td><td>NA</td><td>NA</td><td>NA</td><td>NA</td><td>NA</td><td>NA</td><td>NA</td><td>NA</td></tr>\n",
       "\t<tr><td>2</td><td>32 (03-11-1987)</td><td>Slovakia                 </td><td>Right-handed</td><td>Wikipedia</td><td>178 (280)</td><td>44 (14-01-2013) </td><td>Lukas Lacko         </td><td>Two-handed</td><td>US$3,261,567</td><td>⋯</td><td>NA</td><td>NA</td><td>NA</td><td>NA</td><td>NA</td><td>NA</td><td>NA</td><td>NA</td><td>NA</td><td>NA</td></tr>\n",
       "\t<tr><td>3</td><td>21 (29-05-1998)</td><td>Korea, Republic of       </td><td>Right-handed</td><td>Wikipedia</td><td>236 (199)</td><td>130 (10-04-2017)</td><td>Duck Hee Lee        </td><td>Two-handed</td><td>$374,093    </td><td>⋯</td><td>NA</td><td>NA</td><td>NA</td><td>NA</td><td>NA</td><td>NA</td><td>NA</td><td>NA</td><td>NA</td><td>NA</td></tr>\n",
       "\t<tr><td>4</td><td>27 (21-10-1992)</td><td>Australia                </td><td>Right-handed</td><td>Wikipedia</td><td>183 (273)</td><td>17 (11-01-2016) </td><td>Bernard Tomic       </td><td>Two-handed</td><td>US$6,091,971</td><td>⋯</td><td>NA</td><td>NA</td><td>NA</td><td>NA</td><td>NA</td><td>NA</td><td>NA</td><td>NA</td><td>NA</td><td>NA</td></tr>\n",
       "\t<tr><td>5</td><td>22 (11-02-1997)</td><td>Poland                   </td><td>Right-handed</td><td>Wikipedia</td><td>31 (1398)</td><td>31 (20-01-2020) </td><td>Hubert Hurkacz      </td><td>Two-handed</td><td>$1,517,157  </td><td>⋯</td><td>NA</td><td>NA</td><td>NA</td><td>NA</td><td>NA</td><td>NA</td><td>NA</td><td>NA</td><td>NA</td><td>NA</td></tr>\n",
       "\t<tr><td>6</td><td>28 (18-11-1991)</td><td>United States            </td><td>Right-handed</td><td>Wikipedia</td><td>307 (131)</td><td>213 (31-10-2016)</td><td>Sekou Bangoura      </td><td>Two-handed</td><td>$278,709    </td><td>⋯</td><td>NA</td><td>NA</td><td>NA</td><td>NA</td><td>NA</td><td>NA</td><td>NA</td><td>NA</td><td>NA</td><td>NA</td></tr>\n",
       "\t<tr><td>7</td><td>21 (12-05-1998)</td><td>Taiwan, Province of China</td><td>Right-handed</td><td>Wikipedia</td><td>232 (205)</td><td>229 (04-11-2019)</td><td>Tung Lin Wu         </td><td>Two-handed</td><td>$59,123     </td><td>⋯</td><td>NA</td><td>NA</td><td>NA</td><td>NA</td><td>NA</td><td>NA</td><td>NA</td><td>NA</td><td>NA</td><td>NA</td></tr>\n",
       "</tbody>\n",
       "</table>\n"
      ],
      "text/latex": [
       "A tibble: 8 × 38\n",
       "\\begin{tabular}{lllllllllllllllllllll}\n",
       " ...1 & Age & Country & Plays & Wikipedia & Current Rank & Best Rank & Name & Backhand & Prize Money & ⋯ & Facebook & Twitter & Nicknames & Grand Slams & Davis Cups & Web Site & Team Cups & Olympics & Weeks at No. 1 & Tour Finals\\\\\n",
       " <dbl> & <chr> & <chr> & <chr> & <chr> & <chr> & <chr> & <chr> & <chr> & <chr> & ⋯ & <chr> & <chr> & <chr> & <dbl> & <dbl> & <chr> & <dbl> & <dbl> & <dbl> & <dbl>\\\\\n",
       "\\hline\n",
       "\t 0 & 26 (25-04-1993) & Brazil                    & Right-handed & Wikipedia & 378 (97)  & 363 (04-11-2019) & Oscar Jose Gutierrez & NA         & NA           & ⋯ & NA & NA & NA & NA & NA & NA & NA & NA & NA & NA\\\\\n",
       "\t 1 & 18 (22-12-2001) & United Kingdom            & Left-handed  & Wikipedia & 326 (119) & 316 (14-10-2019) & Jack Draper          & Two-handed & \\$59,040      & ⋯ & NA & NA & NA & NA & NA & NA & NA & NA & NA & NA\\\\\n",
       "\t 2 & 32 (03-11-1987) & Slovakia                  & Right-handed & Wikipedia & 178 (280) & 44 (14-01-2013)  & Lukas Lacko          & Two-handed & US\\$3,261,567 & ⋯ & NA & NA & NA & NA & NA & NA & NA & NA & NA & NA\\\\\n",
       "\t 3 & 21 (29-05-1998) & Korea, Republic of        & Right-handed & Wikipedia & 236 (199) & 130 (10-04-2017) & Duck Hee Lee         & Two-handed & \\$374,093     & ⋯ & NA & NA & NA & NA & NA & NA & NA & NA & NA & NA\\\\\n",
       "\t 4 & 27 (21-10-1992) & Australia                 & Right-handed & Wikipedia & 183 (273) & 17 (11-01-2016)  & Bernard Tomic        & Two-handed & US\\$6,091,971 & ⋯ & NA & NA & NA & NA & NA & NA & NA & NA & NA & NA\\\\\n",
       "\t 5 & 22 (11-02-1997) & Poland                    & Right-handed & Wikipedia & 31 (1398) & 31 (20-01-2020)  & Hubert Hurkacz       & Two-handed & \\$1,517,157   & ⋯ & NA & NA & NA & NA & NA & NA & NA & NA & NA & NA\\\\\n",
       "\t 6 & 28 (18-11-1991) & United States             & Right-handed & Wikipedia & 307 (131) & 213 (31-10-2016) & Sekou Bangoura       & Two-handed & \\$278,709     & ⋯ & NA & NA & NA & NA & NA & NA & NA & NA & NA & NA\\\\\n",
       "\t 7 & 21 (12-05-1998) & Taiwan, Province of China & Right-handed & Wikipedia & 232 (205) & 229 (04-11-2019) & Tung Lin Wu          & Two-handed & \\$59,123      & ⋯ & NA & NA & NA & NA & NA & NA & NA & NA & NA & NA\\\\\n",
       "\\end{tabular}\n"
      ],
      "text/markdown": [
       "\n",
       "A tibble: 8 × 38\n",
       "\n",
       "| ...1 &lt;dbl&gt; | Age &lt;chr&gt; | Country &lt;chr&gt; | Plays &lt;chr&gt; | Wikipedia &lt;chr&gt; | Current Rank &lt;chr&gt; | Best Rank &lt;chr&gt; | Name &lt;chr&gt; | Backhand &lt;chr&gt; | Prize Money &lt;chr&gt; | ⋯ ⋯ | Facebook &lt;chr&gt; | Twitter &lt;chr&gt; | Nicknames &lt;chr&gt; | Grand Slams &lt;dbl&gt; | Davis Cups &lt;dbl&gt; | Web Site &lt;chr&gt; | Team Cups &lt;dbl&gt; | Olympics &lt;dbl&gt; | Weeks at No. 1 &lt;dbl&gt; | Tour Finals &lt;dbl&gt; |\n",
       "|---|---|---|---|---|---|---|---|---|---|---|---|---|---|---|---|---|---|---|---|---|\n",
       "| 0 | 26 (25-04-1993) | Brazil                    | Right-handed | Wikipedia | 378 (97)  | 363 (04-11-2019) | Oscar Jose Gutierrez | NA         | NA           | ⋯ | NA | NA | NA | NA | NA | NA | NA | NA | NA | NA |\n",
       "| 1 | 18 (22-12-2001) | United Kingdom            | Left-handed  | Wikipedia | 326 (119) | 316 (14-10-2019) | Jack Draper          | Two-handed | $59,040      | ⋯ | NA | NA | NA | NA | NA | NA | NA | NA | NA | NA |\n",
       "| 2 | 32 (03-11-1987) | Slovakia                  | Right-handed | Wikipedia | 178 (280) | 44 (14-01-2013)  | Lukas Lacko          | Two-handed | US$3,261,567 | ⋯ | NA | NA | NA | NA | NA | NA | NA | NA | NA | NA |\n",
       "| 3 | 21 (29-05-1998) | Korea, Republic of        | Right-handed | Wikipedia | 236 (199) | 130 (10-04-2017) | Duck Hee Lee         | Two-handed | $374,093     | ⋯ | NA | NA | NA | NA | NA | NA | NA | NA | NA | NA |\n",
       "| 4 | 27 (21-10-1992) | Australia                 | Right-handed | Wikipedia | 183 (273) | 17 (11-01-2016)  | Bernard Tomic        | Two-handed | US$6,091,971 | ⋯ | NA | NA | NA | NA | NA | NA | NA | NA | NA | NA |\n",
       "| 5 | 22 (11-02-1997) | Poland                    | Right-handed | Wikipedia | 31 (1398) | 31 (20-01-2020)  | Hubert Hurkacz       | Two-handed | $1,517,157   | ⋯ | NA | NA | NA | NA | NA | NA | NA | NA | NA | NA |\n",
       "| 6 | 28 (18-11-1991) | United States             | Right-handed | Wikipedia | 307 (131) | 213 (31-10-2016) | Sekou Bangoura       | Two-handed | $278,709     | ⋯ | NA | NA | NA | NA | NA | NA | NA | NA | NA | NA |\n",
       "| 7 | 21 (12-05-1998) | Taiwan, Province of China | Right-handed | Wikipedia | 232 (205) | 229 (04-11-2019) | Tung Lin Wu          | Two-handed | $59,123      | ⋯ | NA | NA | NA | NA | NA | NA | NA | NA | NA | NA |\n",
       "\n"
      ],
      "text/plain": [
       "  ...1 Age             Country                   Plays        Wikipedia\n",
       "1 0    26 (25-04-1993) Brazil                    Right-handed Wikipedia\n",
       "2 1    18 (22-12-2001) United Kingdom            Left-handed  Wikipedia\n",
       "3 2    32 (03-11-1987) Slovakia                  Right-handed Wikipedia\n",
       "4 3    21 (29-05-1998) Korea, Republic of        Right-handed Wikipedia\n",
       "5 4    27 (21-10-1992) Australia                 Right-handed Wikipedia\n",
       "6 5    22 (11-02-1997) Poland                    Right-handed Wikipedia\n",
       "7 6    28 (18-11-1991) United States             Right-handed Wikipedia\n",
       "8 7    21 (12-05-1998) Taiwan, Province of China Right-handed Wikipedia\n",
       "  Current Rank Best Rank        Name                 Backhand   Prize Money  ⋯\n",
       "1 378 (97)     363 (04-11-2019) Oscar Jose Gutierrez NA         NA           ⋯\n",
       "2 326 (119)    316 (14-10-2019) Jack Draper          Two-handed $59,040      ⋯\n",
       "3 178 (280)    44 (14-01-2013)  Lukas Lacko          Two-handed US$3,261,567 ⋯\n",
       "4 236 (199)    130 (10-04-2017) Duck Hee Lee         Two-handed $374,093     ⋯\n",
       "5 183 (273)    17 (11-01-2016)  Bernard Tomic        Two-handed US$6,091,971 ⋯\n",
       "6 31 (1398)    31 (20-01-2020)  Hubert Hurkacz       Two-handed $1,517,157   ⋯\n",
       "7 307 (131)    213 (31-10-2016) Sekou Bangoura       Two-handed $278,709     ⋯\n",
       "8 232 (205)    229 (04-11-2019) Tung Lin Wu          Two-handed $59,123      ⋯\n",
       "  Facebook Twitter Nicknames Grand Slams Davis Cups Web Site Team Cups Olympics\n",
       "1 NA       NA      NA        NA          NA         NA       NA        NA      \n",
       "2 NA       NA      NA        NA          NA         NA       NA        NA      \n",
       "3 NA       NA      NA        NA          NA         NA       NA        NA      \n",
       "4 NA       NA      NA        NA          NA         NA       NA        NA      \n",
       "5 NA       NA      NA        NA          NA         NA       NA        NA      \n",
       "6 NA       NA      NA        NA          NA         NA       NA        NA      \n",
       "7 NA       NA      NA        NA          NA         NA       NA        NA      \n",
       "8 NA       NA      NA        NA          NA         NA       NA        NA      \n",
       "  Weeks at No. 1 Tour Finals\n",
       "1 NA             NA         \n",
       "2 NA             NA         \n",
       "3 NA             NA         \n",
       "4 NA             NA         \n",
       "5 NA             NA         \n",
       "6 NA             NA         \n",
       "7 NA             NA         \n",
       "8 NA             NA         "
      ]
     },
     "metadata": {},
     "output_type": "display_data"
    }
   ],
   "source": [
    "url <- \"https://drive.google.com/uc?export=download&id=1_MECmUXZuuILYeEOfonSGqodW6qVdhsS\"\n",
    "tennis <- read_csv(url)\n",
    "head(tennis, n=8)"
   ]
  },
  {
   "cell_type": "markdown",
   "id": "6dbb63ed-7046-4440-9663-4a553e0b763f",
   "metadata": {},
   "source": [
    "For our model, we focus only on the following: Best Rank, Current Rank. Seasons Played, and Age to predict Prize Money. Note that currently, the observations are all in different formats which makes it hard to use the data for furthere analysis. Furthermore only observations in which all predictors and prize money are nonempty are of importance to us:"
   ]
  },
  {
   "cell_type": "code",
   "execution_count": 25,
   "id": "1c8596dc-c27c-4481-bd74-50df40d9ed44",
   "metadata": {},
   "outputs": [
    {
     "data": {
      "text/html": [
       "<table class=\"dataframe\">\n",
       "<caption>A tibble: 8 × 5</caption>\n",
       "<thead>\n",
       "\t<tr><th scope=col>age</th><th scope=col>current_rank</th><th scope=col>best_rank</th><th scope=col>Prize.Money</th><th scope=col>Seasons</th></tr>\n",
       "\t<tr><th scope=col>&lt;int&gt;</th><th scope=col>&lt;int&gt;</th><th scope=col>&lt;int&gt;</th><th scope=col>&lt;chr&gt;</th><th scope=col>&lt;dbl&gt;</th></tr>\n",
       "</thead>\n",
       "<tbody>\n",
       "\t<tr><td>26</td><td>378</td><td>363</td><td>NA          </td><td>NA</td></tr>\n",
       "\t<tr><td>18</td><td>326</td><td>316</td><td>$59,040     </td><td>NA</td></tr>\n",
       "\t<tr><td>32</td><td>178</td><td> 44</td><td>US$3,261,567</td><td>14</td></tr>\n",
       "\t<tr><td>21</td><td>236</td><td>130</td><td>$374,093    </td><td> 2</td></tr>\n",
       "\t<tr><td>27</td><td>183</td><td> 17</td><td>US$6,091,971</td><td>11</td></tr>\n",
       "\t<tr><td>22</td><td> 31</td><td> 31</td><td>$1,517,157  </td><td> 5</td></tr>\n",
       "\t<tr><td>28</td><td>307</td><td>213</td><td>$278,709    </td><td> 1</td></tr>\n",
       "\t<tr><td>21</td><td>232</td><td>229</td><td>$59,123     </td><td> 1</td></tr>\n",
       "</tbody>\n",
       "</table>\n"
      ],
      "text/latex": [
       "A tibble: 8 × 5\n",
       "\\begin{tabular}{lllll}\n",
       " age & current\\_rank & best\\_rank & Prize.Money & Seasons\\\\\n",
       " <int> & <int> & <int> & <chr> & <dbl>\\\\\n",
       "\\hline\n",
       "\t 26 & 378 & 363 & NA           & NA\\\\\n",
       "\t 18 & 326 & 316 & \\$59,040      & NA\\\\\n",
       "\t 32 & 178 &  44 & US\\$3,261,567 & 14\\\\\n",
       "\t 21 & 236 & 130 & \\$374,093     &  2\\\\\n",
       "\t 27 & 183 &  17 & US\\$6,091,971 & 11\\\\\n",
       "\t 22 &  31 &  31 & \\$1,517,157   &  5\\\\\n",
       "\t 28 & 307 & 213 & \\$278,709     &  1\\\\\n",
       "\t 21 & 232 & 229 & \\$59,123      &  1\\\\\n",
       "\\end{tabular}\n"
      ],
      "text/markdown": [
       "\n",
       "A tibble: 8 × 5\n",
       "\n",
       "| age &lt;int&gt; | current_rank &lt;int&gt; | best_rank &lt;int&gt; | Prize.Money &lt;chr&gt; | Seasons &lt;dbl&gt; |\n",
       "|---|---|---|---|---|\n",
       "| 26 | 378 | 363 | NA           | NA |\n",
       "| 18 | 326 | 316 | $59,040      | NA |\n",
       "| 32 | 178 |  44 | US$3,261,567 | 14 |\n",
       "| 21 | 236 | 130 | $374,093     |  2 |\n",
       "| 27 | 183 |  17 | US$6,091,971 | 11 |\n",
       "| 22 |  31 |  31 | $1,517,157   |  5 |\n",
       "| 28 | 307 | 213 | $278,709     |  1 |\n",
       "| 21 | 232 | 229 | $59,123      |  1 |\n",
       "\n"
      ],
      "text/plain": [
       "  age current_rank best_rank Prize.Money  Seasons\n",
       "1 26  378          363       NA           NA     \n",
       "2 18  326          316       $59,040      NA     \n",
       "3 32  178           44       US$3,261,567 14     \n",
       "4 21  236          130       $374,093      2     \n",
       "5 27  183           17       US$6,091,971 11     \n",
       "6 22   31           31       $1,517,157    5     \n",
       "7 28  307          213       $278,709      1     \n",
       "8 21  232          229       $59,123       1     "
      ]
     },
     "metadata": {},
     "output_type": "display_data"
    }
   ],
   "source": [
    "colnames(tennis) <- make.names(colnames(tennis))\n",
    "tennis <- tennis |>\n",
    "    select(Age,  Current.Rank, Best.Rank, Prize.Money, Seasons)|>\n",
    "    separate(col = Age,\n",
    "             into= c(\"age\", \"Date\"),\n",
    "             sep = \" \",\n",
    "            convert = TRUE) |>\n",
    "    separate(col = Current.Rank,\n",
    "             into= c(\"current_rank\", \"date_of_rank\"),\n",
    "             sep = \" \",\n",
    "            convert = TRUE) |>\n",
    "    separate(col = Best.Rank,\n",
    "             into= c(\"best_rank\", \"date_or_best_rank\"),\n",
    "             sep = \" \",\n",
    "            convert = TRUE) |>\n",
    "    select(age, current_rank, best_rank, Prize.Money, Seasons)\n",
    "head(tennis, n= 8)"
   ]
  },
  {
   "cell_type": "markdown",
   "id": "10cf2691-406b-4904-a82e-9d1631df643f",
   "metadata": {},
   "source": [
    "Now, we will clean the Prize.Money column and remove all empty observations."
   ]
  },
  {
   "cell_type": "code",
   "execution_count": 26,
   "id": "db2c3c84-e5f6-457f-ada9-58646fcfe3cb",
   "metadata": {},
   "outputs": [
    {
     "name": "stderr",
     "output_type": "stream",
     "text": [
      "Warning message in mask$eval_all_mutate(quo):\n",
      "“NAs introduced by coercion”\n"
     ]
    },
    {
     "data": {
      "text/html": [
       "<table class=\"dataframe\">\n",
       "<caption>A tibble: 8 × 5</caption>\n",
       "<thead>\n",
       "\t<tr><th scope=col>age</th><th scope=col>current_rank</th><th scope=col>best_rank</th><th scope=col>seasons_played</th><th scope=col>prize_money</th></tr>\n",
       "\t<tr><th scope=col>&lt;int&gt;</th><th scope=col>&lt;int&gt;</th><th scope=col>&lt;int&gt;</th><th scope=col>&lt;dbl&gt;</th><th scope=col>&lt;dbl&gt;</th></tr>\n",
       "</thead>\n",
       "<tbody>\n",
       "\t<tr><td>32</td><td>178</td><td> 44</td><td>14</td><td>3261567</td></tr>\n",
       "\t<tr><td>21</td><td>236</td><td>130</td><td> 2</td><td> 374093</td></tr>\n",
       "\t<tr><td>27</td><td>183</td><td> 17</td><td>11</td><td>6091971</td></tr>\n",
       "\t<tr><td>22</td><td> 31</td><td> 31</td><td> 5</td><td>1517157</td></tr>\n",
       "\t<tr><td>28</td><td>307</td><td>213</td><td> 1</td><td> 278709</td></tr>\n",
       "\t<tr><td>21</td><td>232</td><td>229</td><td> 1</td><td>  59123</td></tr>\n",
       "\t<tr><td>25</td><td>417</td><td>253</td><td> 5</td><td> 122734</td></tr>\n",
       "\t<tr><td>20</td><td>104</td><td>104</td><td> 3</td><td>  74927</td></tr>\n",
       "</tbody>\n",
       "</table>\n"
      ],
      "text/latex": [
       "A tibble: 8 × 5\n",
       "\\begin{tabular}{lllll}\n",
       " age & current\\_rank & best\\_rank & seasons\\_played & prize\\_money\\\\\n",
       " <int> & <int> & <int> & <dbl> & <dbl>\\\\\n",
       "\\hline\n",
       "\t 32 & 178 &  44 & 14 & 3261567\\\\\n",
       "\t 21 & 236 & 130 &  2 &  374093\\\\\n",
       "\t 27 & 183 &  17 & 11 & 6091971\\\\\n",
       "\t 22 &  31 &  31 &  5 & 1517157\\\\\n",
       "\t 28 & 307 & 213 &  1 &  278709\\\\\n",
       "\t 21 & 232 & 229 &  1 &   59123\\\\\n",
       "\t 25 & 417 & 253 &  5 &  122734\\\\\n",
       "\t 20 & 104 & 104 &  3 &   74927\\\\\n",
       "\\end{tabular}\n"
      ],
      "text/markdown": [
       "\n",
       "A tibble: 8 × 5\n",
       "\n",
       "| age &lt;int&gt; | current_rank &lt;int&gt; | best_rank &lt;int&gt; | seasons_played &lt;dbl&gt; | prize_money &lt;dbl&gt; |\n",
       "|---|---|---|---|---|\n",
       "| 32 | 178 |  44 | 14 | 3261567 |\n",
       "| 21 | 236 | 130 |  2 |  374093 |\n",
       "| 27 | 183 |  17 | 11 | 6091971 |\n",
       "| 22 |  31 |  31 |  5 | 1517157 |\n",
       "| 28 | 307 | 213 |  1 |  278709 |\n",
       "| 21 | 232 | 229 |  1 |   59123 |\n",
       "| 25 | 417 | 253 |  5 |  122734 |\n",
       "| 20 | 104 | 104 |  3 |   74927 |\n",
       "\n"
      ],
      "text/plain": [
       "  age current_rank best_rank seasons_played prize_money\n",
       "1 32  178           44       14             3261567    \n",
       "2 21  236          130        2              374093    \n",
       "3 27  183           17       11             6091971    \n",
       "4 22   31           31        5             1517157    \n",
       "5 28  307          213        1              278709    \n",
       "6 21  232          229        1               59123    \n",
       "7 25  417          253        5              122734    \n",
       "8 20  104          104        3               74927    "
      ]
     },
     "metadata": {},
     "output_type": "display_data"
    }
   ],
   "source": [
    "tennis$Prize.Money <- gsub(\"US\", \"\", tennis$Prize.Money)\n",
    "tennis$Prize.Money <- gsub(\"all-time leader in earnings\", \"\", tennis$Prize.Money)\n",
    "tennis$Prize.Money <- gsub(\"11th\", \"\", tennis$Prize.Money)\n",
    "tennis$Prize.Money <- gsub(\"24th\", \"\", tennis$Prize.Money)\n",
    "tennis$Prize.Money <- gsub(\"10th\", \"\", tennis$Prize.Money)\n",
    "tennis$Prize.Money <- sub(\"14th\", \"\", tennis$Prize.Money)\n",
    "tennis$Prize.Money <- sub(\"27th\", \"\", tennis$Prize.Money)\n",
    "tennis$Prize.Money <- sub(\"15th\", \"\", tennis$Prize.Money)\n",
    "tennis$Prize.Money <- sub(\"30th\", \"\", tennis$Prize.Money)\n",
    "tennis$Prize.Money <- sub(\"All-time leader in earnings\", \"\", tennis$Prize.Money)\n",
    "tennis$Prize.Money <- sub(\"4th\", \"\", tennis$Prize.Money)\n",
    "tennis$Prize.Money <- sub(\"28th\", \"\", tennis$Prize.Money)\n",
    "tennis$Prize.Money <- sub(\"2nd\", \"\", tennis$Prize.Money)\n",
    "tennis$Prize.Money <- sub(\"6th\", \"\", tennis$Prize.Money)\n",
    "tennis$Prize.Money <- sub(\"33rd\", \"\", tennis$Prize.Money)\n",
    "tennis$Prize.Money <- sub(\"26th\", \"\", tennis$Prize.Money)\n",
    "tennis$Prize.Money <- sub(\"24th\", \"\", tennis$Prize.Money)\n",
    "tennis$Prize.Money <- sub(\"48th\", \"\", tennis$Prize.Money)\n",
    "tennis$Prize.Money <- sub(\"41st\", \"\", tennis$Prize.Money)\n",
    "tennis$Prize.Money <- sub(\"\\\\$\",\"\", tennis$Prize.Money)\n",
    "tennis$Prize.Money <- sub(\" \", \"\", tennis$Prize.Money)\n",
    "tennis$Prize.Money <- sub(\"   \", \"\", tennis$Prize.Money)\n",
    "tennis$Prize.Money <- sub(\"  \", \"\", tennis$Prize.Money)\n",
    "tennis$Prize.Money <- sub(\" all-time in earnings\", \"\", tennis$Prize.Money)\n",
    "tennis$Prize.Money <- gsub(\",\", \"\", tennis$Prize.Money)\n",
    "\n",
    "tennis <- tennis |>\n",
    "        rename(seasons_played = Seasons)\n",
    "\n",
    "tennis <- tennis |>\n",
    "    mutate(prize_money = as.numeric(Prize.Money)) |>\n",
    "    select(age, current_rank, best_rank, seasons_played, prize_money) |>\n",
    "    na.omit()\n",
    "head(tennis, n = 8)"
   ]
  },
  {
   "cell_type": "markdown",
   "id": "59992dee-afcf-462e-aff8-a17a066af112",
   "metadata": {},
   "source": [
    "Now we need to split our data into training the testing datasets"
   ]
  },
  {
   "cell_type": "code",
   "execution_count": 33,
   "id": "1d50cd0d-2e45-4b95-95d0-ffc0f72491cf",
   "metadata": {},
   "outputs": [],
   "source": [
    "tennis_split <- initial_split(tennis, prop = .75, strata = prize_money)\n",
    "tennis_train <- training(tennis_split)\n",
    "tennis_test <- testing(tennis_split)\n"
   ]
  },
  {
   "cell_type": "code",
   "execution_count": null,
   "id": "1f67bb81-c201-45f9-9612-2679042007b6",
   "metadata": {},
   "outputs": [],
   "source": []
  },
  {
   "cell_type": "code",
   "execution_count": 43,
   "id": "ffcf3e8c-5052-4ea8-b024-70deb8e28d18",
   "metadata": {},
   "outputs": [
    {
     "ename": "ERROR",
     "evalue": "Error in describeBy(tennis_train): could not find function \"describeBy\"\n",
     "output_type": "error",
     "traceback": [
      "Error in describeBy(tennis_train): could not find function \"describeBy\"\nTraceback:\n"
     ]
    }
   ],
   "source": [
    "describeBy(tennis_train)"
   ]
  },
  {
   "cell_type": "code",
   "execution_count": null,
   "id": "8347997d-6a2b-4782-9a79-603e7c8f04ab",
   "metadata": {},
   "outputs": [],
   "source": []
  },
  {
   "cell_type": "markdown",
   "id": "444f3a9e-30b5-44bd-bbc8-0f63f9cd485c",
   "metadata": {},
   "source": [
    "Let's observe how prize money changes relative to other predictors using a scatterplot."
   ]
  },
  {
   "cell_type": "code",
   "execution_count": 36,
   "id": "fb5f4199-a467-4d94-a47e-016291da55ba",
   "metadata": {},
   "outputs": [
    {
     "data": {
      "image/png": "[encoded data removed]",
      "text/plain": [
       "plot without title"
      ]
     },
     "metadata": {
      "image/png": {
       "height": 420,
       "width": 420
      }
     },
     "output_type": "display_data"
    },
    {
     "data": {
      "image/png": "[encoded data removed]",
      "text/plain": [
       "plot without title"
      ]
     },
     "metadata": {
      "image/png": {
       "height": 420,
       "width": 420
      }
     },
     "output_type": "display_data"
    },
    {
     "data": {
      "image/png": "[encoded data removed]",
      "text/plain": [
       "plot without title"
      ]
     },
     "metadata": {
      "image/png": {
       "height": 420,
       "width": 420
      }
     },
     "output_type": "display_data"
    },
    {
     "data": {
      "image/png": "[encoded data removed]",
      "text/plain": [
       "plot without title"
      ]
     },
     "metadata": {
      "image/png": {
       "height": 420,
       "width": 420
      }
     },
     "output_type": "display_data"
    }
   ],
   "source": [
    "ggplot(tennis_train, aes(x=current_rank,y=prize_money))+\n",
    "    geom_point() +\n",
    "    labs(title = \"Current Rank vs Prize Money\", x=\"Current Rank\", y = \"Prize Money\")\n",
    "ggplot(tennis_train, aes(x=age,y=prize_money))+\n",
    "    geom_point()+\n",
    "    labs(title = \"Age vs Prize Money\", x=\"Age\", y = \"Prize Money\")\n",
    "ggplot(tennis_train, aes(x=best_rank,y=prize_money))+\n",
    "    geom_point()+\n",
    "    labs(title = \"Best Rank vs Prize Money\", x=\"Best Rank\", y = \"Prize Money\")\n",
    "ggplot(tennis_train, aes(x=seasons_played,y=prize_money))+\n",
    "    geom_point()+\n",
    "    labs(title = \"Seasons Played vs Prize Money\", x=\"Seasons Played\", y = \"Prize Money\")\n"
   ]
  },
  {
   "cell_type": "markdown",
   "id": "23d4064d-9ca8-49b4-b1c8-ea87b19edf92",
   "metadata": {},
   "source": [
    "Age and Seasons Played both seem to have a positive relationship with Prize Money, Best Rank and Current Rank have a negative relationship with Prize Money similar to exponential decay."
   ]
  },
  {
   "cell_type": "code",
   "execution_count": null,
   "id": "0c42493f-c5fd-4007-a320-a845e05ff806",
   "metadata": {},
   "outputs": [],
   "source": []
  },
  {
   "cell_type": "markdown",
   "id": "b5179632-da88-44f5-87b8-86d5a0196fcf",
   "metadata": {},
   "source": [
    "### Methods"
   ]
  },
  {
   "cell_type": "markdown",
   "id": "25daa81c-acf6-43ce-a868-ef4fc90ec672",
   "metadata": {},
   "source": [
    "Since all the variables are quantitative, we will use the K-nearest neighbors regression model to analyze the data. The data will be split with 75% in the training set. All predictors will be standardized (scaled and centered) and the number of neighbors will be determined through cross validation. The training data will be split into five equal portions and the number of neighbors used in the final model will correspond with the smallest estimated error from the cross validation tests. The model will be retrained using the ideal number of neighbors on the training set and evaluated by determining its standard error on the testing set. Furthermore, each predictor will undergo this process on its own to determine whether adding more predictors decreases the error in the predictions.\n",
    "\n",
    "To visualize our results, we will create a scatter plot with Prize money on the y-axis and a predictor on the x-axis. Each predictor will be plotted separately with a coloured line that represents the predicted prize money from the model with that predictor only.\n"
   ]
  },
  {
   "cell_type": "markdown",
   "id": "c85079c3-1c2e-4ee6-9945-531466f93358",
   "metadata": {},
   "source": [
    "### Expected Outcomes"
   ]
  },
  {
   "cell_type": "markdown",
   "id": "7d6d8433-692e-438b-8c57-cc9937093e84",
   "metadata": {},
   "source": [
    "We are expecting the older players with more experience (i.e played more seasons) to have a better rank and overall  leading to higher career earnings. This is because experience is a key factor in winning sports hence leading to a higher chance of said players to win tournaments resulting in more career earnings.\n",
    "\n",
    "We will be able to create a model which could accurately predict a future tennis player’s lifetime prize money based on their projected seasons, highest rank attainable and the age they would like to retire. This would be a good path finder for such future players who in turn can understand their future goals and hence be fueled with motivation.\n",
    "\n",
    "What other variables affect career earnings in tennis?\n",
    "How does tennis’s prize money model compare with other sports' prize money model?\n"
   ]
  },
  {
   "cell_type": "code",
   "execution_count": null,
   "id": "959eeb3a-b7a2-44c1-b401-ba0fa1a24eb2",
   "metadata": {},
   "outputs": [],
   "source": []
  }
 ],
 "metadata": {
  "kernelspec": {
   "display_name": "R",
   "language": "R",
   "name": "ir"
  },
  "language_info": {
   "codemirror_mode": "r",
   "file_extension": ".r",
   "mimetype": "text/x-r-source",
   "name": "R",
   "pygments_lexer": "r",
   "version": "4.1.3"
  }
 },
 "nbformat": 4,
 "nbformat_minor": 5
}
